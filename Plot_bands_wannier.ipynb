{
 "cells": [
  {
   "cell_type": "code",
   "execution_count": 1,
   "id": "273d33ef",
   "metadata": {},
   "outputs": [],
   "source": [
    "import numpy as np\n",
    "import matplotlib.pyplot as plt"
   ]
  },
  {
   "cell_type": "code",
   "execution_count": null,
   "id": "4473a687",
   "metadata": {},
   "outputs": [],
   "source": [
    "Data=np.array([])\n",
    "\n",
    "num=0\n",
    "\n",
    "f = open(\"REFORMATTED_BAND_DW.dat\")\n",
    "for l in f.readlines():\n",
    "    Temp = l.split()\n",
    "    if Temp[0]!='#K-Path':\n",
    "        if num==0:\n",
    "            Data = np.array(Temp).astype(float)\n",
    "        else:\n",
    "            Data = np.vstack([Data, np.array(Temp).astype(float)])\n",
    "\n",
    "        num += 1\n"
   ]
  },
  {
   "cell_type": "code",
   "execution_count": null,
   "id": "f641da32",
   "metadata": {},
   "outputs": [],
   "source": [
    "import plotly.graph_objects as go\n",
    "\n",
    "fig = go.Figure()\n",
    "\n",
    "\n",
    "# Create and style traces\n",
    "\n",
    "for i in range(1,Data.shape[1]):\n",
    "    fig.add_trace(go.Scatter( y=Data[:,i], name='Band'+str(i)))\n",
    "\n",
    "\n",
    "# Edit the layout\n",
    "fig.update_layout(title='Average High and Low Temperatures in New York',\n",
    "                   xaxis_title='Month',\n",
    "                   yaxis_title='Temperature (degrees F)')\n",
    "\n",
    "\n",
    "fig.show()"
   ]
  },
  {
   "cell_type": "code",
   "execution_count": 51,
   "id": "404d3999",
   "metadata": {},
   "outputs": [],
   "source": [
    "numAtoms=12\n",
    "numOrbitals=9\n",
    "numBands=336\n",
    "numKpoints=400\n",
    "numStartAtom=5\n",
    "\n",
    "\n",
    "XDatadw=np.zeros([numKpoints,numBands,numAtoms])\n",
    "YDatadw=np.zeros([numKpoints,numBands,numAtoms])\n",
    "\n",
    "AuxSdw=np.zeros([numKpoints,numBands,numOrbitals,numAtoms])\n",
    "\n",
    "for atom in range(numStartAtom,numStartAtom+numAtoms):\n",
    "    f = open(\"PBAND_A\"+str(atom)+\"_DW.dat\")\n",
    "    for l in f.readlines():\n",
    "        Temp = l.split()\n",
    "        if len(Temp)==3:\n",
    "            bandCount=int(Temp[2])-1\n",
    "            kCount=0\n",
    "        if len(Temp)>0:\n",
    "            if Temp[0]!='#K-Path' and Temp[0]!='#':\n",
    "                XDatadw[kCount,bandCount,atom-numStartAtom]=float(Temp[0])\n",
    "                YDatadw[kCount,bandCount,atom-numStartAtom]=float(Temp[1])\n",
    "                for orb in range(2,11):\n",
    "                    AuxSdw[kCount,bandCount,orb-2,atom-numStartAtom]=float(Temp[orb])\n",
    "                kCount+=1\n",
    "                \n",
    "\n"
   ]
  },
  {
   "cell_type": "code",
   "execution_count": 43,
   "id": "aa1f0394",
   "metadata": {},
   "outputs": [
    {
     "data": {
      "text/plain": [
       "False"
      ]
     },
     "execution_count": 43,
     "metadata": {},
     "output_type": "execute_result"
    }
   ],
   "source": [
    "Maskdw=np.sum(AuxSdw[:,:,1])\n",
    "\n",
    "np.all(AuxSdw==0)"
   ]
  },
  {
   "cell_type": "code",
   "execution_count": null,
   "id": "4c087e66",
   "metadata": {},
   "outputs": [],
   "source": [
    "XData_A5=np.array([])\n",
    "YData_A5=np.array([])\n",
    "AuxS=np.array([])\n",
    "\n",
    "AuxPx=np.array([])\n",
    "AuxPy=np.array([])\n",
    "AuxPz=np.array([])\n",
    "\n",
    "Auxxy=np.array([])\n",
    "Auxyz=np.array([])\n",
    "Auxz2=np.array([])\n",
    "Auxxz=np.array([])\n",
    "Auxx2y2=np.array([])\n",
    "\n",
    "num=0\n",
    "\n",
    "f = open(\"PBAND_A5_DW.dat\")\n",
    "for l in f.readlines():\n",
    "    Temp = l.split()\n",
    "    if len(Temp)>0:\n",
    "        if Temp[0]!='#K-Path' and Temp[0]!='#':\n",
    "            XData_A5 = np.append(XData_A5,float(Temp[0]))\n",
    "            YData_A5 = np.append(YData_A5,float(Temp[1]))\n",
    "\n",
    "            \n",
    "            AuxS = np.append(AuxS,float(Temp[2]))\n",
    "            \n",
    "            AuxPy= np.append(AuxPy,float(Temp[3]))\n",
    "            AuxPz= np.append(AuxPz,float(Temp[4]))\n",
    "            AuxPx= np.append(AuxPx,float(Temp[5]))\n",
    "            \n",
    "            Auxxy= np.append(Auxxy,float(Temp[6]))\n",
    "            Auxyz= np.append(Auxyz,float(Temp[7]))\n",
    "            Auxz2= np.append(Auxz2,float(Temp[8]))\n",
    "            Auxxz= np.append(Auxxz,float(Temp[9]))\n",
    "            Auxx2y2= np.append(Auxx2y2,float(Temp[10]))\n",
    "            \n",
    "XData_A5 = XData_A5.reshape(int((len(XData_A5))/400),400).T\n",
    "YData_A5 = YData_A5.reshape(int((len(YData_A5))/400),400).T\n",
    "\n",
    "AuxS = AuxS.reshape(int((len(AuxS))/400),400).T\n",
    "#AuxS= np.where(AuxS == 0, np.nan, AuxS)\n",
    "\n",
    "AuxPy = AuxPy.reshape(int((len(AuxPy))/400),400).T\n",
    "AuxPz = AuxPz.reshape(int((len(AuxPz))/400),400).T\n",
    "AuxPx = AuxPx.reshape(int((len(AuxPx))/400),400).T\n",
    "\n",
    "#AuxPy = np.where(AuxPy == 0, np.nan, AuxPy)\n",
    "#AuxPz = np.where(AuxPz == 0, np.nan, AuxPz)\n",
    "#AuxPx = np.where(AuxPx == 0, np.nan, AuxPx)\n",
    "\n",
    "\n",
    "Auxxy = Auxxy.reshape(int((len(Auxxy))/400),400).T\n",
    "Auxyz = Auxyz.reshape(int((len(Auxyz))/400),400).T\n",
    "Auxz2 = Auxz2.reshape(int((len(Auxz2))/400),400).T\n",
    "Auxxz = Auxxz.reshape(int((len(Auxxz))/400),400).T\n",
    "Auxx2y2= Auxx2y2.reshape(int((len(Auxx2y2))/400),400).T\n",
    "\n",
    "# Auxxy = np.where(Auxxy == 0, np.nan, Auxxy)\n",
    "# Auxyz = np.where(Auxyz == 0, np.nan, Auxyz)\n",
    "# Auxz2 = np.where(Auxz2 == 0, np.nan, Auxz2)\n",
    "# Auxxz = np.where(Auxxz == 0, np.nan, Auxxz)\n",
    "# Auxx2y2= np.where(Auxx2y2 == 0, np.nan, Auxx2y2)\n",
    "\n"
   ]
  },
  {
   "cell_type": "code",
   "execution_count": null,
   "id": "85cc6456",
   "metadata": {
    "scrolled": true
   },
   "outputs": [],
   "source": [
    "fig = go.Figure()\n",
    "\n",
    "\n",
    "# Create and style traces\n",
    "\n",
    "for i in range(1,XData_A5.shape[1]):\n",
    "    fig.add_trace(go.Scatter(x=XData_A5[:,i], y=YData_A5[:,i], name='Band'+str(i),marker=dict(size=1150)))\n",
    "\n",
    "\n",
    "# Edit the layout\n",
    "fig.update_layout(title='Average High and Low Temperatures in New York',\n",
    "                   xaxis_title='Month',\n",
    "                   yaxis_title='Temperature (degrees F)')\n",
    "\n",
    "\n",
    "fig.show()"
   ]
  },
  {
   "cell_type": "code",
   "execution_count": null,
   "id": "00975851",
   "metadata": {},
   "outputs": [],
   "source": [
    "from plotly.offline import plot, iplot, init_notebook_mode\n",
    "\n",
    "fig = go.Figure()\n",
    "\n",
    "\n",
    "Mask=Auxz2\n",
    "\n",
    "for i in range(245,260):\n",
    "    ValuePlotX = np.where(XData_A5*Mask == 0, np.nan, XData_A5)\n",
    "    ValuePlotY = np.where(YData_A5*Mask == 0, np.nan, YData_A5)\n",
    "    fig.add_trace(go.Scatter(x=ValuePlotX[:,i],\n",
    "                             y=ValuePlotY[:,i],\n",
    "                             mode='markers',\n",
    "                             name='Band'+str(i),\n",
    "                             marker=dict(size=100*(Mask[:,i]),\n",
    "                                         line=dict(width=0))))\n",
    "    \n",
    "\n",
    "fig.update_yaxes(range=[-1, 1])\n",
    "\n",
    "iplot(fig)\n",
    "\n"
   ]
  },
  {
   "cell_type": "code",
   "execution_count": null,
   "id": "2ba673f3",
   "metadata": {},
   "outputs": [],
   "source": [
    "Mask=Auxz2\n",
    "\n",
    "ValuePlotY = np.where(YData_A5*Mask < 0.02, np.nan, YData_A5)\n",
    "\n",
    "count=0\n",
    "\n",
    "for i in range(0,ValuePlotY.shape[1]):\n",
    "    if not np.all(np.isnan(ValuePlotY[:,i])):\n",
    "        print('Band',i+1)\n",
    "        count+=1\n",
    "print('# of bands=',count)"
   ]
  },
  {
   "cell_type": "code",
   "execution_count": 7,
   "id": "db5ee084",
   "metadata": {},
   "outputs": [
    {
     "name": "stdout",
     "output_type": "stream",
     "text": [
      "[[0.]\n",
      " [0.]\n",
      " [0.]\n",
      " [0.]\n",
      " [0.]\n",
      " [0.]\n",
      " [0.]\n",
      " [0.]\n",
      " [0.]]\n",
      "0.0\n"
     ]
    }
   ],
   "source": [
    "\n",
    "A = np.zeros([9,1],dtype=float)\n",
    "print(A)\n",
    "print(A[0,0])"
   ]
  },
  {
   "cell_type": "code",
   "execution_count": 8,
   "id": "d5af326d",
   "metadata": {},
   "outputs": [
    {
     "ename": "ValueError",
     "evalue": "could not broadcast input array from shape (10,) into shape (9,)",
     "output_type": "error",
     "traceback": [
      "\u001b[0;31m---------------------------------------------------------------------------\u001b[0m",
      "\u001b[0;31mValueError\u001b[0m                                Traceback (most recent call last)",
      "\u001b[0;32m/tmp/ipykernel_110107/923024375.py\u001b[0m in \u001b[0;36m<module>\u001b[0;34m\u001b[0m\n\u001b[0;32m----> 1\u001b[0;31m \u001b[0mA\u001b[0m\u001b[0;34m[\u001b[0m\u001b[0;34m:\u001b[0m\u001b[0;34m,\u001b[0m\u001b[0;36m0\u001b[0m\u001b[0;34m]\u001b[0m \u001b[0;34m=\u001b[0m \u001b[0mnp\u001b[0m\u001b[0;34m.\u001b[0m\u001b[0mconcatenate\u001b[0m\u001b[0;34m(\u001b[0m\u001b[0;34m(\u001b[0m\u001b[0mA\u001b[0m\u001b[0;34m[\u001b[0m\u001b[0;34m:\u001b[0m\u001b[0;34m,\u001b[0m\u001b[0;36m0\u001b[0m\u001b[0;34m]\u001b[0m\u001b[0;34m,\u001b[0m\u001b[0;34m[\u001b[0m\u001b[0;36m1\u001b[0m\u001b[0;34m]\u001b[0m\u001b[0;34m)\u001b[0m\u001b[0;34m)\u001b[0m\u001b[0;34m\u001b[0m\u001b[0;34m\u001b[0m\u001b[0m\n\u001b[0m",
      "\u001b[0;31mValueError\u001b[0m: could not broadcast input array from shape (10,) into shape (9,)"
     ]
    }
   ],
   "source": [
    "\n",
    "\n",
    "A[:,0] = np.concatenate((A[:,0],[1]))"
   ]
  },
  {
   "cell_type": "code",
   "execution_count": 4,
   "id": "f9d19b7e",
   "metadata": {},
   "outputs": [
    {
     "data": {
      "text/plain": [
       "array([1.69699138e-316, 0.00000000e+000, 7.73341193e-319, 1.39067116e-308,\n",
       "       2.11382017e-307, 1.39234689e+188, 2.37399350e+289, 7.33453170e+250,\n",
       "       6.73683268e-310, 1.00000000e+000])"
      ]
     },
     "execution_count": 4,
     "metadata": {},
     "output_type": "execute_result"
    }
   ],
   "source": [
    "A"
   ]
  },
  {
   "cell_type": "code",
   "execution_count": 50,
   "id": "25de4b00",
   "metadata": {},
   "outputs": [
    {
     "name": "stdout",
     "output_type": "stream",
     "text": [
      "['d1' 'd2' 'd3' 'd4' 'd5']\n"
     ]
    }
   ],
   "source": [
    "A=np.array(['s','px','py','pz','d1','d2','d3','d4','d5'])\n",
    "print(A[4:9])"
   ]
  },
  {
   "cell_type": "code",
   "execution_count": null,
   "id": "ab05ae9c",
   "metadata": {},
   "outputs": [],
   "source": []
  }
 ],
 "metadata": {
  "kernelspec": {
   "display_name": "Python 3 (ipykernel)",
   "language": "python",
   "name": "python3"
  },
  "language_info": {
   "codemirror_mode": {
    "name": "ipython",
    "version": 3
   },
   "file_extension": ".py",
   "mimetype": "text/x-python",
   "name": "python",
   "nbconvert_exporter": "python",
   "pygments_lexer": "ipython3",
   "version": "3.8.10"
  }
 },
 "nbformat": 4,
 "nbformat_minor": 5
}
